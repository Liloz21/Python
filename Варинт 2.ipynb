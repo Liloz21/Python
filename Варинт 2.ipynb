{
 "cells": [
  {
   "cell_type": "markdown",
   "metadata": {},
   "source": [
    "Студент группы УБВТ2101 Валгин В.В\n"
   ]
  },
  {
   "cell_type": "markdown",
   "metadata": {},
   "source": [
    "<h1>Вариант 2 </h1>\n"
   ]
  },
  {
   "cell_type": "markdown",
   "metadata": {},
   "source": [
    "Упражнение 1\n"
   ]
  },
  {
   "cell_type": "code",
   "execution_count": 7,
   "metadata": {},
   "outputs": [
    {
     "name": "stdout",
     "output_type": "stream",
     "text": [
      "3.141592653589793\n"
     ]
    }
   ],
   "source": [
    "# Проверка работы модуля math (данный модуль должен быть предустановлен в python)\n",
    "from math import tan\n",
    "print(pi)\n"
   ]
  },
  {
   "cell_type": "code",
   "execution_count": 48,
   "metadata": {},
   "outputs": [
    {
     "name": "stdout",
     "output_type": "stream",
     "text": [
      "длина стороны 5\n",
      "количество сторон 5\n",
      "43.01193501472418\n"
     ]
    }
   ],
   "source": [
    "s = float(input('длина стороны '))  \n",
    "n = float(input('количество сторон '))  \n",
    "# Формула для нахождения площади area = (𝑛∗𝑠^2)/(4∗tan⁡(𝜋/𝑛))\n",
    "# Числитель и знанематель запишем в разные переменные\n",
    "numerator = n*s**2\n",
    "denominator = 4*tan(pi/n)\n",
    "area = numerator/denominator\n",
    "print(area)"
   ]
  },
  {
   "cell_type": "markdown",
   "metadata": {},
   "source": [
    "Упражнение 2\n"
   ]
  },
  {
   "cell_type": "code",
   "execution_count": 49,
   "metadata": {},
   "outputs": [
    {
     "name": "stdout",
     "output_type": "stream",
     "text": [
      "15\n",
      "120.0\n"
     ]
    }
   ],
   "source": [
    "n = int(input())\n",
    "sum = ((n)*(n+1))/(2)\n",
    "print(sum)\n"
   ]
  },
  {
   "cell_type": "code",
   "execution_count": null,
   "metadata": {},
   "outputs": [],
   "source": []
  },
  {
   "cell_type": "code",
   "execution_count": null,
   "metadata": {},
   "outputs": [],
   "source": []
  }
 ],
 "metadata": {
  "kernelspec": {
   "display_name": "Python 3",
   "language": "python",
   "name": "python3"
  }
 },
 "nbformat": 4,
 "nbformat_minor": 4
}
